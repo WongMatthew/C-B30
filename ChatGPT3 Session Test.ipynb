{
 "cells": [
  {
   "cell_type": "code",
   "execution_count": 13,
   "metadata": {},
<<<<<<< Updated upstream
   "outputs": [],
=======
   "outputs": [
    {
     "data": {
      "text/plain": [
       "'\\nuser_input = string \\nconfig = json\\nconversation_id = int --> optional\\n'"
      ]
     },
     "execution_count": 13,
     "metadata": {},
     "output_type": "execute_result"
    }
   ],
>>>>>>> Stashed changes
   "source": [
    "from revChatGPT.ChatGPT import Chatbot\n",
    "import json\n",
    "\n",
    "'''\n",
    "user_input = string \n",
    "config = json\n",
    "conversation_id = int --> optional\n",
    "'''"
   ]
  },
  {
   "cell_type": "code",
<<<<<<< Updated upstream
   "execution_count": 34,
=======
   "execution_count": 20,
>>>>>>> Stashed changes
   "metadata": {},
   "outputs": [
    {
     "name": "stdout",
     "output_type": "stream",
     "text": [
      "Spawning browser...\n",
      "Browser spawned.\n",
      "Found Cloudflare Cookie!\n"
     ]
    }
   ],
   "source": [
    "# start/reset instance\n",
    "chatbot = Chatbot(config)"
   ]
  },
  {
   "cell_type": "code",
<<<<<<< Updated upstream
   "execution_count": 35,
=======
   "execution_count": 21,
>>>>>>> Stashed changes
   "metadata": {},
   "outputs": [
    {
     "name": "stdout",
     "output_type": "stream",
     "text": [
<<<<<<< Updated upstream
      "{'message': \"Sure, let's start with the first question. What is the rule (or assumption) you live by that you would like to modify? \\n\", 'conversation_id': '9ad88fa9-e6bd-4f19-8d17-d6222ec8c865', 'parent_id': '2beb3b63-9b50-4f3c-a15a-d1a22dab89ef'}\n"
=======
      "{'message': \"Sure, I'd be happy to have a conversation with you about modifying rules and assumptions. Let's start with the first question: What is the rule (or assumption) that you live by that you would like to modify?\\n\", 'conversation_id': '4627fb88-0c04-4134-859d-136b323ea0d4', 'parent_id': '8124651b-f4ea-4c32-82e5-93d2dcfbf335'}\n"
>>>>>>> Stashed changes
     ]
    }
   ],
   "source": [
    "# initial group of questions to ask user\n",
    "\n",
    "# start prompt with \"ask me these quesitons one by one and have a conversation with me about them: \"\n",
    "\n",
    "response = chatbot.ask(\"ask me these questions one by one and have a conversation with me about them: Modifying Rules And Assumptions What is the rule (or assumption) I live by that I would like to modify? How does this rule (or assumption) a\u001fect me in my day to day life?\")\n",
    "\n",
    "print(response)"
   ]
  },
  {
   "cell_type": "code",
   "execution_count": 33,
   "metadata": {},
   "outputs": [
    {
     "name": "stdout",
     "output_type": "stream",
     "text": [
      "{'message': 'Sure, moving on to the next question: How does this rule (or assumption) affect you in your day to day life?\\n', 'conversation_id': '5d22dcdd-76b9-46f1-a20e-38d848dc9a05', 'parent_id': 'fdbffcb1-2889-477c-8ab8-02dfc400bd1c'}\n"
     ]
    }
   ],
   "source": [
    "user_input = \"move to next question\"\n",
    "\n",
    "response = chatbot.ask(user_input, conversation_id=None, parent_id=None) # You can specify custom conversation and parent ids. Otherwise it uses the saved conversation (yes. conversations are automatically saved)\n",
    "\n",
    "print(response[message])"
   ]
  },
  {
   "cell_type": "code",
   "execution_count": 38,
   "metadata": {},
   "outputs": [
    {
     "name": "stdout",
     "output_type": "stream",
     "text": [
      "<!doctype html>\n",
      "<html lang=en>\n",
      "<title>400 Bad Request</title>\n",
      "<h1>Bad Request</h1>\n",
      "<p>The browser (or proxy) sent a request that this server could not understand.</p>\n",
      "\n"
     ]
    }
   ],
   "source": [
    "import requests\n",
    "\n",
    "url = \"http://127.0.0.1:5000//chat?message=hello\"\n",
    "\n",
    "payload={}\n",
    "headers = {}\n",
    "\n",
    "response = requests.request(\"POST\", url, headers=headers, data=payload)\n",
    "\n",
    "print(response.text)"
   ]
  },
  {
   "cell_type": "code",
   "execution_count": null,
   "metadata": {},
   "outputs": [],
   "source": []
  }
 ],
 "metadata": {
  "kernelspec": {
   "display_name": "Python 3 (ipykernel)",
   "language": "python",
   "name": "python3"
  },
  "language_info": {
   "codemirror_mode": {
    "name": "ipython",
    "version": 3
   },
   "file_extension": ".py",
   "mimetype": "text/x-python",
   "name": "python",
   "nbconvert_exporter": "python",
   "pygments_lexer": "ipython3",
   "version": "3.7.1"
  },
  "vscode": {
   "interpreter": {
    "hash": "25addf1814d4c9385bce189a50f91b3953188b941f0ab68c73e05bb6c66aba4c"
   }
  }
 },
 "nbformat": 4,
 "nbformat_minor": 2
}
