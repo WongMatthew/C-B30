{
 "cells": [
  {
   "cell_type": "code",
   "execution_count": 12,
   "metadata": {},
   "outputs": [
    {
     "ename": "ModuleNotFoundError",
     "evalue": "No module named 'revChatGPT.revChatGPT'",
     "output_type": "error",
     "traceback": [
      "\u001b[1;31m---------------------------------------------------------------------------\u001b[0m",
      "\u001b[1;31mModuleNotFoundError\u001b[0m                       Traceback (most recent call last)",
      "\u001b[1;32m~\\AppData\\Local\\Temp/ipykernel_4928/160212468.py\u001b[0m in \u001b[0;36m<module>\u001b[1;34m\u001b[0m\n\u001b[1;32m----> 1\u001b[1;33m \u001b[1;32mfrom\u001b[0m \u001b[0mrevChatGPT\u001b[0m\u001b[1;33m.\u001b[0m\u001b[0mrevChatGPT\u001b[0m \u001b[1;32mimport\u001b[0m \u001b[0mChatbot\u001b[0m\u001b[1;33m\u001b[0m\u001b[1;33m\u001b[0m\u001b[0m\n\u001b[0m\u001b[0;32m      2\u001b[0m \u001b[1;32mimport\u001b[0m \u001b[0mjson\u001b[0m\u001b[1;33m\u001b[0m\u001b[1;33m\u001b[0m\u001b[0m\n",
      "\u001b[1;31mModuleNotFoundError\u001b[0m: No module named 'revChatGPT.revChatGPT'"
     ]
    }
   ],
   "source": [
    "from revChatGPT.ChatGPT import Chatbot\n",
    "import json"
   ]
  },
  {
   "cell_type": "code",
   "execution_count": 4,
   "metadata": {},
   "outputs": [],
   "source": [
    "token: \"<eyJhbGciOiJkaXIiLCJlbmMiOiJBMjU2R0NNIn0..o5BlPyEvYtGscUQ7.ZLInc1vC-gdZ3q2a3rYX-7VR96i9d_SxHttnEjp7gOsu490ifgBxaBfHQMG3I4NXMxfM0AoYfk0EpCGa6hXM0-QnV17_lYXr0O-snMH3j7geKyEKUEn2NPITFPQGOHY3nRIRhVtsK69P-7SqbK1Us6CIlEg4uXNyRKqeMylq2fqy3itGwg4bGPqexgKlEIO-lpyMb66SNP9ma7LxRCOb0qvkxkW0CqznSTM18Jl45_-7au4EgSZnmitCzwd3UsQpzC121SPQ_s_ZpykmhjfaLDxlBKsalvxJbq3EHyoJ1DN_FxnlGGI4trb33nanBRP4SCaNXiY-zBq58FrOMN4luhoRlAclkneE7gYcp9UcygMhc5RXZoQ6BOEZikTaQCxcsqd0wtdcrtFcyIduL1Znh1dKLyiM_xch2EirrroXv3l_GReG2rYEffz64p5we7nPhM7PCheXeUSuCbpZbvzWEbZaGhqUQpkpUIolCrTyTtSmZwh7f-u1U7ubkQUzcYwG6MSATeISs9d404z7JUoY9xKeb56Ymb-SsfHoTeitvE6v0y1YIOuWvkz_6JBxQkwqyF5l8AeRpP6FAsQpqUKKXniog3JcOlAZlcTneZowzv0P8tvfT-eNQXclekfGTByOTWw2rNxM1Xgje30XTDZ2hR6on7aXuMLKtZMI332jsXX9IQbc86Rw07jZ76pnfQtbKKFJu8OlKc0VaatycBqOyxCGSWIRL7gxRkRbSkLTdJPayHicj_8SGWsCLPhMvhRTQtUuU1rZaZ5pJNEP63y3qF_v5grRqEJIQFhi8rIGvlQZS130FGGKPXClDM4vlhP-P4pDezxZEyoKffoeHtZLKGM3Sv_qhkl6JyVqeae8SftAxhc-kFPLURBn2GRAKafXTieDN8sKoeJXCKJOjZtrtA4ssRRheaOeYLPTzDexMZoTNaVyNzHDzyuX55mYukheJ1skhhz4c0ZWDTWCzz3078eTcC1dzhNTAksvqOATX5RwB0_vwHvCG2FObSNKljYRu0VdauiUtFSsBdv8zwu9gE6UE_dFZIyDiudp-42HS_b_Cj48CgbuOOErBt574i5Ued_9Hb3quCmR_mgU0WwC5Qbkt3Y88-C2nw4tlCtWS0Np16xsjFAkOUsmJZhh50Ww_iQzAY3GUY-WMXUzeFA09hKlS6dtxyfO4Vm30liD1xLNjkPc9l1fHfWqSWOgYd81VAa_NxGjW3rSL37TYxdmbggXGbBH3GaicsTk9ajYelokBrDqWa5I90GOKCJ65QZmEWklt_Vww5-3aTXfXUM5NMg6Pb5Dw_ITevH1p8GlESlJO_Z9Xb9TC4K1f4V5DFaB5BeXne5kQIIQLneduKUdWY_fHUV9usf8Kv95vhX65Ub54QDxzPU0yzZIDVVzm8n9Fux1qcWDxdpcUKrX4IhULm5Tu1Q4xj9_ZINFW2eTpMsf0mfLTnd2YSYlrXKQptic0YdOOB3QL0GXY5oSimzSvk7OgvQrNaJFAvZ0xOuWX8iz3gkuEYXZc4CxTSn1x5TPuKBG4GelL2g-ux8jQsHoFmUNBJL4lqUL0EWHJWw1Mafo-Rzv8W4cu5S7iOe_xDZk_JoMOckVFZ75B8EKI4UAULP2TlllDi55qcneRSkEASSNGYC9-08j4hxru5GuB-jFZn_yPA3f1iCGBah67zqfeCNk0k_skrEg-vASnuEkZqxCXGtAwNfVFC0O05FKmVW4kjUfJhaWM2ZnqtZQsxe8D6EgXE67UPqRDW-IPIY42LLoPdsTsOP17WGHckBf_Vslmr2POiRx_lQVbC7-YMQ0gnjRN1DGPP8SxDkWBAbklxSA5AvlsAlG7IyYW6LwWS0c09u2H4c44rIxAxD9MxU3nrlMwLIeE0__WSFD724A9OAQ3iwbSMoFq5SJU2dRr6NvfHuMoS4L6kyub7Zpw3R8E0-4kJnBjhmMt6WMKjAi_3hWMlvejNDrzZozQ9uRnabAY_JDJv6yPFgx3D-e2SvyW0eePYOOc6P_4qXyHfo8sy_Rby6bUivSnFpzO7U5_P0mtIiBOC2idkpzftHsTIMgDd-gVD_96BuJlKQE3unWbb0e_wHytSFNSohsYFiHc2mFh7OM1gLur4UgSHXnqZg6rCIy8S3UywOsIEVhbfDHI7pKLIGP12Vym1RBxNqi4UWuBzNxPjZTzN-seGItSThaM5DindHVxLMsvbdGSyW8J38r6e_EgV0AhBzBuWKNz4u9hLc0ZKOjsQdk9YhewPxhNQ-pmbzGmNY_YFQC_lyEEWAcmZxJU_lvU3N44FuF1SGkQs6StbkwzsJ0zCNViSQIsbPtcoyuP9vtFAik02C9_Z7HMKpMFTzKirwPUtrspkycSHIYOaKZwAkGcglnQeYd-dc8ttuaWfVf5BG09mp9Xv1sT1X6m7jaqqm0V95MjK65RoHXWE7y0OZ1GHFY4JgL-aX0eIN20cf1lAKOOiGSPLUzsvlTnnwK5_FptZYbq6gsrIw9zAUL_kw8FWhegdHE3-toXug2yNSaNmisnrwHm8b5856_i2hfk3wsSjf1B1sIVDrdkeJduFbnl0VDM1HtFcU5v25SyL8izNs4V_csp7jF0-XyvaJSPGkOLIplgdwudjPSXvjLwJDgdNlERlx_CNfhVeOSGWhXs3x9nwzvY1Hdq2yNkuP9MvgNKUv63FHCDFfJAHZCRHIqnxv3L-be.3metcAWlkK3f4zUjAsNbLQ>\""
   ]
  },
  {
   "cell_type": "code",
   "execution_count": 7,
   "metadata": {},
   "outputs": [
    {
     "name": "stdout",
     "output_type": "stream",
     "text": [
      "Spawning browser...\n",
      "Browser spawned.\n",
      "Found Cloudflare Cookie!\n",
      "Failed to refresh session!\n",
      "Failed to refresh session!\n",
      "Failed to refresh session!\n",
      "Failed to refresh session!\n",
      "Failed to refresh session!\n",
      "Failed to refresh session!\n"
     ]
    },
    {
     "ename": "Exception",
     "evalue": "Failed to refresh session!",
     "output_type": "error",
     "traceback": [
      "\u001b[1;31m---------------------------------------------------------------------------\u001b[0m",
      "\u001b[1;31mException\u001b[0m                                 Traceback (most recent call last)",
      "\u001b[1;32m~\\Anaconda3\\lib\\site-packages\\revChatGPT\\ChatGPT.py\u001b[0m in \u001b[0;36mrefresh_session\u001b[1;34m(self, session_token)\u001b[0m\n\u001b[0;32m    223\u001b[0m             \u001b[1;32melif\u001b[0m \u001b[0mresponse\u001b[0m\u001b[1;33m.\u001b[0m\u001b[0mstatus_code\u001b[0m \u001b[1;33m!=\u001b[0m \u001b[1;36m200\u001b[0m \u001b[1;32mor\u001b[0m \u001b[0mresponse\u001b[0m\u001b[1;33m.\u001b[0m\u001b[0mjson\u001b[0m\u001b[1;33m(\u001b[0m\u001b[1;33m)\u001b[0m \u001b[1;33m==\u001b[0m \u001b[1;33m{\u001b[0m\u001b[1;33m}\u001b[0m \u001b[1;32mor\u001b[0m \u001b[1;34m\"accessToken\"\u001b[0m \u001b[1;32mnot\u001b[0m \u001b[1;32min\u001b[0m \u001b[0mresponse\u001b[0m\u001b[1;33m.\u001b[0m\u001b[0mjson\u001b[0m\u001b[1;33m(\u001b[0m\u001b[1;33m)\u001b[0m\u001b[1;33m:\u001b[0m\u001b[1;33m\u001b[0m\u001b[1;33m\u001b[0m\u001b[0m\n\u001b[1;32m--> 224\u001b[1;33m                 \u001b[1;32mraise\u001b[0m \u001b[0mException\u001b[0m\u001b[1;33m(\u001b[0m\u001b[1;34mf'Response code: {response.status_code} \\n Response: {response.text}'\u001b[0m\u001b[1;33m)\u001b[0m\u001b[1;33m\u001b[0m\u001b[1;33m\u001b[0m\u001b[0m\n\u001b[0m\u001b[0;32m    225\u001b[0m             \u001b[1;32melse\u001b[0m\u001b[1;33m:\u001b[0m\u001b[1;33m\u001b[0m\u001b[1;33m\u001b[0m\u001b[0m\n",
      "\u001b[1;31mException\u001b[0m: Response code: 200 \n Response: {}",
      "\nThe above exception was the direct cause of the following exception:\n",
      "\u001b[1;31mException\u001b[0m                                 Traceback (most recent call last)",
      "\u001b[1;32m~\\AppData\\Local\\Temp/ipykernel_4928/1006454501.py\u001b[0m in \u001b[0;36m<module>\u001b[1;34m\u001b[0m\n\u001b[0;32m      1\u001b[0m chatbot = Chatbot({\n\u001b[0;32m      2\u001b[0m   \u001b[1;34m\"session_token\"\u001b[0m\u001b[1;33m:\u001b[0m \u001b[1;34m\"<eyJhbGciOiJkaXIiLCJlbmMiOiJBMjU2R0NNIn0..o5BlPyEvYtGscUQ7.ZLInc1vC-gdZ3q2a3rYX-7VR96i9d_SxHttnEjp7gOsu490ifgBxaBfHQMG3I4NXMxfM0AoYfk0EpCGa6hXM0-QnV17_lYXr0O-snMH3j7geKyEKUEn2NPITFPQGOHY3nRIRhVtsK69P-7SqbK1Us6CIlEg4uXNyRKqeMylq2fqy3itGwg4bGPqexgKlEIO-lpyMb66SNP9ma7LxRCOb0qvkxkW0CqznSTM18Jl45_-7au4EgSZnmitCzwd3UsQpzC121SPQ_s_ZpykmhjfaLDxlBKsalvxJbq3EHyoJ1DN_FxnlGGI4trb33nanBRP4SCaNXiY-zBq58FrOMN4luhoRlAclkneE7gYcp9UcygMhc5RXZoQ6BOEZikTaQCxcsqd0wtdcrtFcyIduL1Znh1dKLyiM_xch2EirrroXv3l_GReG2rYEffz64p5we7nPhM7PCheXeUSuCbpZbvzWEbZaGhqUQpkpUIolCrTyTtSmZwh7f-u1U7ubkQUzcYwG6MSATeISs9d404z7JUoY9xKeb56Ymb-SsfHoTeitvE6v0y1YIOuWvkz_6JBxQkwqyF5l8AeRpP6FAsQpqUKKXniog3JcOlAZlcTneZowzv0P8tvfT-eNQXclekfGTByOTWw2rNxM1Xgje30XTDZ2hR6on7aXuMLKtZMI332jsXX9IQbc86Rw07jZ76pnfQtbKKFJu8OlKc0VaatycBqOyxCGSWIRL7gxRkRbSkLTdJPayHicj_8SGWsCLPhMvhRTQtUuU1rZaZ5pJNEP63y3qF_v5grRqEJIQFhi8rIGvlQZS130FGGKPXClDM4vlhP-P4pDezxZEyoKffoeHtZLKGM3Sv_qhkl6JyVqeae8SftAxhc-kFPLURBn2GRAKafXTieDN8sKoeJXCKJOjZtrtA4ssRRheaOeYLPTzDexMZoTNaVyNzHDzyuX55mYukheJ1skhhz4c0ZWDTWCzz3078eTcC1dzhNTAksvqOATX5RwB0_vwHvCG2FObSNKljYRu0VdauiUtFSsBdv8zwu9gE6UE_dFZIyDiudp-42HS_b_Cj48CgbuOOErBt574i5Ued_9Hb3quCmR_mgU0WwC5Qbkt3Y88-C2nw4tlCtWS0Np16xsjFAkOUsmJZhh50Ww_iQzAY3GUY-WMXUzeFA09hKlS6dtxyfO4Vm30liD1xLNjkPc9l1fHfWqSWOgYd81VAa_NxGjW3rSL37TYxdmbggXGbBH3GaicsTk9ajYelokBrDqWa5I90GOKCJ65QZmEWklt_Vww5-3aTXfXUM5NMg6Pb5Dw_ITevH1p8GlESlJO_Z9Xb9TC4K1f4V5DFaB5BeXne5kQIIQLneduKUdWY_fHUV9usf8Kv95vhX65Ub54QDxzPU0yzZIDVVzm8n9Fux1qcWDxdpcUKrX4IhULm5Tu1Q4xj9_ZINFW2eTpMsf0mfLTnd2YSYlrXKQptic0YdOOB3QL0GXY5oSimzSvk7OgvQrNaJFAvZ0xOuWX8iz3gkuEYXZc4CxTSn1x5TPuKBG4GelL2g-ux8jQsHoFmUNBJL4lqUL0EWHJWw1Mafo-Rzv8W4cu5S7iOe_xDZk_JoMOckVFZ75B8EKI4UAULP2TlllDi55qcneRSkEASSNGYC9-08j4hxru5GuB-jFZn_yPA3f1iCGBah67zqfeCNk0k_skrEg-vASnuEkZqxCXGtAwNfVFC0O05FKmVW4kjUfJhaWM2ZnqtZQsxe8D6EgXE67UPqRDW-IPIY42LLoPdsTsOP17WGHckBf_Vslmr2POiRx_lQVbC7-YMQ0gnjRN1DGPP8SxDkWBAbklxSA5AvlsAlG7IyYW6LwWS0c09u2H4c44rIxAxD9MxU3nrlMwLIeE0__WSFD724A9OAQ3iwbSMoFq5SJU2dRr6NvfHuMoS4L6kyub7Zpw3R8E0-4kJnBjhmMt6WMKjAi_3hWMlvejNDrzZozQ9uRnabAY_JDJv6yPFgx3D-e2SvyW0eePYOOc6P_4qXyHfo8sy_Rby6bUivSnFpzO7U5_P0mtIiBOC2idkpzftHsTIMgDd-gVD_96BuJlKQE3unWbb0e_wHytSFNSohsYFiHc2mFh7OM1gLur4UgSHXnqZg6rCIy8S3UywOsIEVhbfDHI7pKLIGP12Vym1RBxNqi4UWuBzNxPjZTzN-seGItSThaM5DindHVxLMsvbdGSyW8J38r6e_EgV0AhBzBuWKNz4u9hLc0ZKOjsQdk9YhewPxhNQ-pmbzGmNY_YFQC_lyEEWAcmZxJU_lvU3N44FuF1SGkQs6StbkwzsJ0zCNViSQIsbPtcoyuP9vtFAik02C9_Z7HMKpMFTzKirwPUtrspkycSHIYOaKZwAkGcglnQeYd-dc8ttuaWfVf5BG09mp9Xv1sT1X6m7jaqqm0V95MjK65RoHXWE7y0OZ1GHFY4JgL-aX0eIN20cf1lAKOOiGSPLUzsvlTnnwK5_FptZYbq6gsrIw9zAUL_kw8FWhegdHE3-toXug2yNSaNmisnrwHm8b5856_i2hfk3wsSjf1B1sIVDrdkeJduFbnl0VDM1HtFcU5v25SyL8izNs4V_csp7jF0-XyvaJSPGkOLIplgdwudjPSXvjLwJDgdNlERlx_CNfhVeOSGWhXs3x9nwzvY1Hdq2yNkuP9MvgNKUv63FHCDFfJAHZCRHIqnxv3L-be.3metcAWlkK3f4zUjAsNbLQ>\"\u001b[0m\u001b[1;33m\u001b[0m\u001b[1;33m\u001b[0m\u001b[0m\n\u001b[1;32m----> 3\u001b[1;33m }, conversation_id=15, parent_id=15) # You can start a custom conversation\n\u001b[0m\u001b[0;32m      4\u001b[0m \u001b[1;33m\u001b[0m\u001b[0m\n\u001b[0;32m      5\u001b[0m \u001b[0mresponse\u001b[0m \u001b[1;33m=\u001b[0m \u001b[0mchatbot\u001b[0m\u001b[1;33m.\u001b[0m\u001b[0mask\u001b[0m\u001b[1;33m(\u001b[0m\u001b[1;34m\"name the countries with the top 10 gold reserves\"\u001b[0m\u001b[1;33m,\u001b[0m \u001b[0mconversation_id\u001b[0m\u001b[1;33m=\u001b[0m\u001b[1;36m15\u001b[0m\u001b[1;33m,\u001b[0m \u001b[0mparent_id\u001b[0m\u001b[1;33m=\u001b[0m\u001b[1;36m15\u001b[0m\u001b[1;33m)\u001b[0m \u001b[1;31m# You can specify custom conversation and parent ids. Otherwise it uses the saved conversation (yes. conversations are automatically saved)\u001b[0m\u001b[1;33m\u001b[0m\u001b[1;33m\u001b[0m\u001b[0m\n",
      "\u001b[1;32m~\\Anaconda3\\lib\\site-packages\\revChatGPT\\ChatGPT.py\u001b[0m in \u001b[0;36m__init__\u001b[1;34m(self, config, conversation_id, parent_id, no_refresh)\u001b[0m\n\u001b[0;32m     78\u001b[0m         \u001b[1;32melse\u001b[0m\u001b[1;33m:\u001b[0m\u001b[1;33m\u001b[0m\u001b[1;33m\u001b[0m\u001b[0m\n\u001b[0;32m     79\u001b[0m             \u001b[1;32mraise\u001b[0m \u001b[0mException\u001b[0m\u001b[1;33m(\u001b[0m\u001b[1;34m\"Invalid config!\"\u001b[0m\u001b[1;33m)\u001b[0m\u001b[1;33m\u001b[0m\u001b[1;33m\u001b[0m\u001b[0m\n\u001b[1;32m---> 80\u001b[1;33m         \u001b[0mself\u001b[0m\u001b[1;33m.\u001b[0m\u001b[0mretry_refresh\u001b[0m\u001b[1;33m(\u001b[0m\u001b[1;33m)\u001b[0m\u001b[1;33m\u001b[0m\u001b[1;33m\u001b[0m\u001b[0m\n\u001b[0m\u001b[0;32m     81\u001b[0m \u001b[1;33m\u001b[0m\u001b[0m\n\u001b[0;32m     82\u001b[0m     \u001b[1;32mdef\u001b[0m \u001b[0mretry_refresh\u001b[0m\u001b[1;33m(\u001b[0m\u001b[0mself\u001b[0m\u001b[1;33m)\u001b[0m\u001b[1;33m:\u001b[0m\u001b[1;33m\u001b[0m\u001b[1;33m\u001b[0m\u001b[0m\n",
      "\u001b[1;32m~\\Anaconda3\\lib\\site-packages\\revChatGPT\\ChatGPT.py\u001b[0m in \u001b[0;36mretry_refresh\u001b[1;34m(self)\u001b[0m\n\u001b[0;32m     89\u001b[0m             \u001b[1;32mexcept\u001b[0m \u001b[0mException\u001b[0m \u001b[1;32mas\u001b[0m \u001b[0mexc\u001b[0m\u001b[1;33m:\u001b[0m\u001b[1;33m\u001b[0m\u001b[1;33m\u001b[0m\u001b[0m\n\u001b[0;32m     90\u001b[0m                 \u001b[1;32mif\u001b[0m \u001b[0mretries\u001b[0m \u001b[1;33m==\u001b[0m \u001b[1;36m0\u001b[0m\u001b[1;33m:\u001b[0m\u001b[1;33m\u001b[0m\u001b[1;33m\u001b[0m\u001b[0m\n\u001b[1;32m---> 91\u001b[1;33m                     \u001b[1;32mraise\u001b[0m \u001b[0mexc\u001b[0m\u001b[1;33m\u001b[0m\u001b[1;33m\u001b[0m\u001b[0m\n\u001b[0m\u001b[0;32m     92\u001b[0m                 \u001b[0mretries\u001b[0m \u001b[1;33m-=\u001b[0m \u001b[1;36m1\u001b[0m\u001b[1;33m\u001b[0m\u001b[1;33m\u001b[0m\u001b[0m\n\u001b[0;32m     93\u001b[0m \u001b[1;33m\u001b[0m\u001b[0m\n",
      "\u001b[1;32m~\\Anaconda3\\lib\\site-packages\\revChatGPT\\ChatGPT.py\u001b[0m in \u001b[0;36mretry_refresh\u001b[1;34m(self)\u001b[0m\n\u001b[0;32m     85\u001b[0m         \u001b[1;32mwhile\u001b[0m \u001b[0mrefresh\u001b[0m\u001b[1;33m:\u001b[0m\u001b[1;33m\u001b[0m\u001b[1;33m\u001b[0m\u001b[0m\n\u001b[0;32m     86\u001b[0m             \u001b[1;32mtry\u001b[0m\u001b[1;33m:\u001b[0m\u001b[1;33m\u001b[0m\u001b[1;33m\u001b[0m\u001b[0m\n\u001b[1;32m---> 87\u001b[1;33m                 \u001b[0mself\u001b[0m\u001b[1;33m.\u001b[0m\u001b[0mrefresh_session\u001b[0m\u001b[1;33m(\u001b[0m\u001b[1;33m)\u001b[0m\u001b[1;33m\u001b[0m\u001b[1;33m\u001b[0m\u001b[0m\n\u001b[0m\u001b[0;32m     88\u001b[0m                 \u001b[0mrefresh\u001b[0m \u001b[1;33m=\u001b[0m \u001b[1;32mFalse\u001b[0m\u001b[1;33m\u001b[0m\u001b[1;33m\u001b[0m\u001b[0m\n\u001b[0;32m     89\u001b[0m             \u001b[1;32mexcept\u001b[0m \u001b[0mException\u001b[0m \u001b[1;32mas\u001b[0m \u001b[0mexc\u001b[0m\u001b[1;33m:\u001b[0m\u001b[1;33m\u001b[0m\u001b[1;33m\u001b[0m\u001b[0m\n",
      "\u001b[1;32m~\\Anaconda3\\lib\\site-packages\\revChatGPT\\ChatGPT.py\u001b[0m in \u001b[0;36mrefresh_session\u001b[1;34m(self, session_token)\u001b[0m\n\u001b[0;32m    237\u001b[0m                 \u001b[0mself\u001b[0m\u001b[1;33m.\u001b[0m\u001b[0memail_login\u001b[0m\u001b[1;33m(\u001b[0m\u001b[0mself\u001b[0m\u001b[1;33m.\u001b[0m\u001b[0msolve_captcha\u001b[0m\u001b[1;33m(\u001b[0m\u001b[1;33m)\u001b[0m\u001b[1;33m)\u001b[0m\u001b[1;33m\u001b[0m\u001b[1;33m\u001b[0m\u001b[0m\n\u001b[0;32m    238\u001b[0m             \u001b[1;32melse\u001b[0m\u001b[1;33m:\u001b[0m\u001b[1;33m\u001b[0m\u001b[1;33m\u001b[0m\u001b[0m\n\u001b[1;32m--> 239\u001b[1;33m                 \u001b[1;32mraise\u001b[0m \u001b[0mException\u001b[0m\u001b[1;33m(\u001b[0m\u001b[1;34m\"Failed to refresh session!\"\u001b[0m\u001b[1;33m)\u001b[0m \u001b[1;32mfrom\u001b[0m \u001b[0mexc\u001b[0m\u001b[1;33m\u001b[0m\u001b[1;33m\u001b[0m\u001b[0m\n\u001b[0m\u001b[0;32m    240\u001b[0m \u001b[1;33m\u001b[0m\u001b[0m\n\u001b[0;32m    241\u001b[0m     \u001b[1;32mdef\u001b[0m \u001b[0mreset_chat\u001b[0m\u001b[1;33m(\u001b[0m\u001b[0mself\u001b[0m\u001b[1;33m)\u001b[0m \u001b[1;33m->\u001b[0m \u001b[1;32mNone\u001b[0m\u001b[1;33m:\u001b[0m\u001b[1;33m\u001b[0m\u001b[1;33m\u001b[0m\u001b[0m\n",
      "\u001b[1;31mException\u001b[0m: Failed to refresh session!"
     ]
    }
   ],
   "source": [
    "chatbot = Chatbot({\n",
    "  \"session_token\": \"<eyJhbGciOiJkaXIiLCJlbmMiOiJBMjU2R0NNIn0..o5BlPyEvYtGscUQ7.ZLInc1vC-gdZ3q2a3rYX-7VR96i9d_SxHttnEjp7gOsu490ifgBxaBfHQMG3I4NXMxfM0AoYfk0EpCGa6hXM0-QnV17_lYXr0O-snMH3j7geKyEKUEn2NPITFPQGOHY3nRIRhVtsK69P-7SqbK1Us6CIlEg4uXNyRKqeMylq2fqy3itGwg4bGPqexgKlEIO-lpyMb66SNP9ma7LxRCOb0qvkxkW0CqznSTM18Jl45_-7au4EgSZnmitCzwd3UsQpzC121SPQ_s_ZpykmhjfaLDxlBKsalvxJbq3EHyoJ1DN_FxnlGGI4trb33nanBRP4SCaNXiY-zBq58FrOMN4luhoRlAclkneE7gYcp9UcygMhc5RXZoQ6BOEZikTaQCxcsqd0wtdcrtFcyIduL1Znh1dKLyiM_xch2EirrroXv3l_GReG2rYEffz64p5we7nPhM7PCheXeUSuCbpZbvzWEbZaGhqUQpkpUIolCrTyTtSmZwh7f-u1U7ubkQUzcYwG6MSATeISs9d404z7JUoY9xKeb56Ymb-SsfHoTeitvE6v0y1YIOuWvkz_6JBxQkwqyF5l8AeRpP6FAsQpqUKKXniog3JcOlAZlcTneZowzv0P8tvfT-eNQXclekfGTByOTWw2rNxM1Xgje30XTDZ2hR6on7aXuMLKtZMI332jsXX9IQbc86Rw07jZ76pnfQtbKKFJu8OlKc0VaatycBqOyxCGSWIRL7gxRkRbSkLTdJPayHicj_8SGWsCLPhMvhRTQtUuU1rZaZ5pJNEP63y3qF_v5grRqEJIQFhi8rIGvlQZS130FGGKPXClDM4vlhP-P4pDezxZEyoKffoeHtZLKGM3Sv_qhkl6JyVqeae8SftAxhc-kFPLURBn2GRAKafXTieDN8sKoeJXCKJOjZtrtA4ssRRheaOeYLPTzDexMZoTNaVyNzHDzyuX55mYukheJ1skhhz4c0ZWDTWCzz3078eTcC1dzhNTAksvqOATX5RwB0_vwHvCG2FObSNKljYRu0VdauiUtFSsBdv8zwu9gE6UE_dFZIyDiudp-42HS_b_Cj48CgbuOOErBt574i5Ued_9Hb3quCmR_mgU0WwC5Qbkt3Y88-C2nw4tlCtWS0Np16xsjFAkOUsmJZhh50Ww_iQzAY3GUY-WMXUzeFA09hKlS6dtxyfO4Vm30liD1xLNjkPc9l1fHfWqSWOgYd81VAa_NxGjW3rSL37TYxdmbggXGbBH3GaicsTk9ajYelokBrDqWa5I90GOKCJ65QZmEWklt_Vww5-3aTXfXUM5NMg6Pb5Dw_ITevH1p8GlESlJO_Z9Xb9TC4K1f4V5DFaB5BeXne5kQIIQLneduKUdWY_fHUV9usf8Kv95vhX65Ub54QDxzPU0yzZIDVVzm8n9Fux1qcWDxdpcUKrX4IhULm5Tu1Q4xj9_ZINFW2eTpMsf0mfLTnd2YSYlrXKQptic0YdOOB3QL0GXY5oSimzSvk7OgvQrNaJFAvZ0xOuWX8iz3gkuEYXZc4CxTSn1x5TPuKBG4GelL2g-ux8jQsHoFmUNBJL4lqUL0EWHJWw1Mafo-Rzv8W4cu5S7iOe_xDZk_JoMOckVFZ75B8EKI4UAULP2TlllDi55qcneRSkEASSNGYC9-08j4hxru5GuB-jFZn_yPA3f1iCGBah67zqfeCNk0k_skrEg-vASnuEkZqxCXGtAwNfVFC0O05FKmVW4kjUfJhaWM2ZnqtZQsxe8D6EgXE67UPqRDW-IPIY42LLoPdsTsOP17WGHckBf_Vslmr2POiRx_lQVbC7-YMQ0gnjRN1DGPP8SxDkWBAbklxSA5AvlsAlG7IyYW6LwWS0c09u2H4c44rIxAxD9MxU3nrlMwLIeE0__WSFD724A9OAQ3iwbSMoFq5SJU2dRr6NvfHuMoS4L6kyub7Zpw3R8E0-4kJnBjhmMt6WMKjAi_3hWMlvejNDrzZozQ9uRnabAY_JDJv6yPFgx3D-e2SvyW0eePYOOc6P_4qXyHfo8sy_Rby6bUivSnFpzO7U5_P0mtIiBOC2idkpzftHsTIMgDd-gVD_96BuJlKQE3unWbb0e_wHytSFNSohsYFiHc2mFh7OM1gLur4UgSHXnqZg6rCIy8S3UywOsIEVhbfDHI7pKLIGP12Vym1RBxNqi4UWuBzNxPjZTzN-seGItSThaM5DindHVxLMsvbdGSyW8J38r6e_EgV0AhBzBuWKNz4u9hLc0ZKOjsQdk9YhewPxhNQ-pmbzGmNY_YFQC_lyEEWAcmZxJU_lvU3N44FuF1SGkQs6StbkwzsJ0zCNViSQIsbPtcoyuP9vtFAik02C9_Z7HMKpMFTzKirwPUtrspkycSHIYOaKZwAkGcglnQeYd-dc8ttuaWfVf5BG09mp9Xv1sT1X6m7jaqqm0V95MjK65RoHXWE7y0OZ1GHFY4JgL-aX0eIN20cf1lAKOOiGSPLUzsvlTnnwK5_FptZYbq6gsrIw9zAUL_kw8FWhegdHE3-toXug2yNSaNmisnrwHm8b5856_i2hfk3wsSjf1B1sIVDrdkeJduFbnl0VDM1HtFcU5v25SyL8izNs4V_csp7jF0-XyvaJSPGkOLIplgdwudjPSXvjLwJDgdNlERlx_CNfhVeOSGWhXs3x9nwzvY1Hdq2yNkuP9MvgNKUv63FHCDFfJAHZCRHIqnxv3L-be.3metcAWlkK3f4zUjAsNbLQ>\"\n",
    "}, conversation_id=15, parent_id=15) # You can start a custom conversation\n",
    "\n",
    "response = chatbot.ask(\"name the countries with the top 10 gold reserves\", conversation_id=15, parent_id=15) # You can specify custom conversation and parent ids. Otherwise it uses the saved conversation (yes. conversations are automatically saved)\n",
    "\n",
    "print(response)"
   ]
  },
  {
   "cell_type": "code",
   "execution_count": 11,
   "metadata": {},
   "outputs": [
    {
     "name": "stdout",
     "output_type": "stream",
     "text": [
      "Spawning browser...\n",
      "Browser spawned.\n",
      "Found Cloudflare Cookie!\n",
      "Failed to refresh session!\n",
      "Failed to refresh session!\n",
      "Failed to refresh session!\n",
      "Failed to refresh session!\n",
      "Failed to refresh session!\n",
      "Failed to refresh session!\n"
     ]
    },
    {
     "ename": "Exception",
     "evalue": "Failed to refresh session!",
     "output_type": "error",
     "traceback": [
      "\u001b[1;31m---------------------------------------------------------------------------\u001b[0m",
      "\u001b[1;31mException\u001b[0m                                 Traceback (most recent call last)",
      "\u001b[1;32m~\\Anaconda3\\lib\\site-packages\\revChatGPT\\ChatGPT.py\u001b[0m in \u001b[0;36mrefresh_session\u001b[1;34m(self, session_token)\u001b[0m\n\u001b[0;32m    223\u001b[0m             \u001b[1;32melif\u001b[0m \u001b[0mresponse\u001b[0m\u001b[1;33m.\u001b[0m\u001b[0mstatus_code\u001b[0m \u001b[1;33m!=\u001b[0m \u001b[1;36m200\u001b[0m \u001b[1;32mor\u001b[0m \u001b[0mresponse\u001b[0m\u001b[1;33m.\u001b[0m\u001b[0mjson\u001b[0m\u001b[1;33m(\u001b[0m\u001b[1;33m)\u001b[0m \u001b[1;33m==\u001b[0m \u001b[1;33m{\u001b[0m\u001b[1;33m}\u001b[0m \u001b[1;32mor\u001b[0m \u001b[1;34m\"accessToken\"\u001b[0m \u001b[1;32mnot\u001b[0m \u001b[1;32min\u001b[0m \u001b[0mresponse\u001b[0m\u001b[1;33m.\u001b[0m\u001b[0mjson\u001b[0m\u001b[1;33m(\u001b[0m\u001b[1;33m)\u001b[0m\u001b[1;33m:\u001b[0m\u001b[1;33m\u001b[0m\u001b[1;33m\u001b[0m\u001b[0m\n\u001b[1;32m--> 224\u001b[1;33m                 \u001b[1;32mraise\u001b[0m \u001b[0mException\u001b[0m\u001b[1;33m(\u001b[0m\u001b[1;34mf'Response code: {response.status_code} \\n Response: {response.text}'\u001b[0m\u001b[1;33m)\u001b[0m\u001b[1;33m\u001b[0m\u001b[1;33m\u001b[0m\u001b[0m\n\u001b[0m\u001b[0;32m    225\u001b[0m             \u001b[1;32melse\u001b[0m\u001b[1;33m:\u001b[0m\u001b[1;33m\u001b[0m\u001b[1;33m\u001b[0m\u001b[0m\n",
      "\u001b[1;31mException\u001b[0m: Response code: 200 \n Response: {}",
      "\nThe above exception was the direct cause of the following exception:\n",
      "\u001b[1;31mException\u001b[0m                                 Traceback (most recent call last)",
      "\u001b[1;32m~\\AppData\\Local\\Temp/ipykernel_4928/3674040090.py\u001b[0m in \u001b[0;36m<module>\u001b[1;34m\u001b[0m\n\u001b[0;32m      1\u001b[0m \u001b[0mconfig\u001b[0m \u001b[1;33m=\u001b[0m \u001b[0mjson\u001b[0m\u001b[1;33m.\u001b[0m\u001b[0mload\u001b[0m\u001b[1;33m(\u001b[0m\u001b[0mopen\u001b[0m\u001b[1;33m(\u001b[0m\u001b[1;34m\"config.json\"\u001b[0m\u001b[1;33m)\u001b[0m\u001b[1;33m)\u001b[0m\u001b[1;33m\u001b[0m\u001b[1;33m\u001b[0m\u001b[0m\n\u001b[1;32m----> 2\u001b[1;33m \u001b[0mchatbot\u001b[0m \u001b[1;33m=\u001b[0m \u001b[0mChatbot\u001b[0m\u001b[1;33m(\u001b[0m\u001b[0mconfig\u001b[0m\u001b[1;33m,\u001b[0m \u001b[0mconversation_id\u001b[0m\u001b[1;33m=\u001b[0m\u001b[1;32mNone\u001b[0m\u001b[1;33m)\u001b[0m\u001b[1;33m\u001b[0m\u001b[1;33m\u001b[0m\u001b[0m\n\u001b[0m\u001b[0;32m      3\u001b[0m \u001b[0mchatbot\u001b[0m\u001b[1;33m.\u001b[0m\u001b[0mreset_chat\u001b[0m\u001b[1;33m(\u001b[0m\u001b[1;33m)\u001b[0m\u001b[1;33m\u001b[0m\u001b[1;33m\u001b[0m\u001b[0m\n\u001b[0;32m      4\u001b[0m \u001b[0mchatbot\u001b[0m\u001b[1;33m.\u001b[0m\u001b[0mrefresh_session\u001b[0m\u001b[1;33m(\u001b[0m\u001b[1;33m)\u001b[0m\u001b[1;33m\u001b[0m\u001b[1;33m\u001b[0m\u001b[0m\n",
      "\u001b[1;32m~\\Anaconda3\\lib\\site-packages\\revChatGPT\\ChatGPT.py\u001b[0m in \u001b[0;36m__init__\u001b[1;34m(self, config, conversation_id, parent_id, no_refresh)\u001b[0m\n\u001b[0;32m     78\u001b[0m         \u001b[1;32melse\u001b[0m\u001b[1;33m:\u001b[0m\u001b[1;33m\u001b[0m\u001b[1;33m\u001b[0m\u001b[0m\n\u001b[0;32m     79\u001b[0m             \u001b[1;32mraise\u001b[0m \u001b[0mException\u001b[0m\u001b[1;33m(\u001b[0m\u001b[1;34m\"Invalid config!\"\u001b[0m\u001b[1;33m)\u001b[0m\u001b[1;33m\u001b[0m\u001b[1;33m\u001b[0m\u001b[0m\n\u001b[1;32m---> 80\u001b[1;33m         \u001b[0mself\u001b[0m\u001b[1;33m.\u001b[0m\u001b[0mretry_refresh\u001b[0m\u001b[1;33m(\u001b[0m\u001b[1;33m)\u001b[0m\u001b[1;33m\u001b[0m\u001b[1;33m\u001b[0m\u001b[0m\n\u001b[0m\u001b[0;32m     81\u001b[0m \u001b[1;33m\u001b[0m\u001b[0m\n\u001b[0;32m     82\u001b[0m     \u001b[1;32mdef\u001b[0m \u001b[0mretry_refresh\u001b[0m\u001b[1;33m(\u001b[0m\u001b[0mself\u001b[0m\u001b[1;33m)\u001b[0m\u001b[1;33m:\u001b[0m\u001b[1;33m\u001b[0m\u001b[1;33m\u001b[0m\u001b[0m\n",
      "\u001b[1;32m~\\Anaconda3\\lib\\site-packages\\revChatGPT\\ChatGPT.py\u001b[0m in \u001b[0;36mretry_refresh\u001b[1;34m(self)\u001b[0m\n\u001b[0;32m     89\u001b[0m             \u001b[1;32mexcept\u001b[0m \u001b[0mException\u001b[0m \u001b[1;32mas\u001b[0m \u001b[0mexc\u001b[0m\u001b[1;33m:\u001b[0m\u001b[1;33m\u001b[0m\u001b[1;33m\u001b[0m\u001b[0m\n\u001b[0;32m     90\u001b[0m                 \u001b[1;32mif\u001b[0m \u001b[0mretries\u001b[0m \u001b[1;33m==\u001b[0m \u001b[1;36m0\u001b[0m\u001b[1;33m:\u001b[0m\u001b[1;33m\u001b[0m\u001b[1;33m\u001b[0m\u001b[0m\n\u001b[1;32m---> 91\u001b[1;33m                     \u001b[1;32mraise\u001b[0m \u001b[0mexc\u001b[0m\u001b[1;33m\u001b[0m\u001b[1;33m\u001b[0m\u001b[0m\n\u001b[0m\u001b[0;32m     92\u001b[0m                 \u001b[0mretries\u001b[0m \u001b[1;33m-=\u001b[0m \u001b[1;36m1\u001b[0m\u001b[1;33m\u001b[0m\u001b[1;33m\u001b[0m\u001b[0m\n\u001b[0;32m     93\u001b[0m \u001b[1;33m\u001b[0m\u001b[0m\n",
      "\u001b[1;32m~\\Anaconda3\\lib\\site-packages\\revChatGPT\\ChatGPT.py\u001b[0m in \u001b[0;36mretry_refresh\u001b[1;34m(self)\u001b[0m\n\u001b[0;32m     85\u001b[0m         \u001b[1;32mwhile\u001b[0m \u001b[0mrefresh\u001b[0m\u001b[1;33m:\u001b[0m\u001b[1;33m\u001b[0m\u001b[1;33m\u001b[0m\u001b[0m\n\u001b[0;32m     86\u001b[0m             \u001b[1;32mtry\u001b[0m\u001b[1;33m:\u001b[0m\u001b[1;33m\u001b[0m\u001b[1;33m\u001b[0m\u001b[0m\n\u001b[1;32m---> 87\u001b[1;33m                 \u001b[0mself\u001b[0m\u001b[1;33m.\u001b[0m\u001b[0mrefresh_session\u001b[0m\u001b[1;33m(\u001b[0m\u001b[1;33m)\u001b[0m\u001b[1;33m\u001b[0m\u001b[1;33m\u001b[0m\u001b[0m\n\u001b[0m\u001b[0;32m     88\u001b[0m                 \u001b[0mrefresh\u001b[0m \u001b[1;33m=\u001b[0m \u001b[1;32mFalse\u001b[0m\u001b[1;33m\u001b[0m\u001b[1;33m\u001b[0m\u001b[0m\n\u001b[0;32m     89\u001b[0m             \u001b[1;32mexcept\u001b[0m \u001b[0mException\u001b[0m \u001b[1;32mas\u001b[0m \u001b[0mexc\u001b[0m\u001b[1;33m:\u001b[0m\u001b[1;33m\u001b[0m\u001b[1;33m\u001b[0m\u001b[0m\n",
      "\u001b[1;32m~\\Anaconda3\\lib\\site-packages\\revChatGPT\\ChatGPT.py\u001b[0m in \u001b[0;36mrefresh_session\u001b[1;34m(self, session_token)\u001b[0m\n\u001b[0;32m    237\u001b[0m                 \u001b[0mself\u001b[0m\u001b[1;33m.\u001b[0m\u001b[0memail_login\u001b[0m\u001b[1;33m(\u001b[0m\u001b[0mself\u001b[0m\u001b[1;33m.\u001b[0m\u001b[0msolve_captcha\u001b[0m\u001b[1;33m(\u001b[0m\u001b[1;33m)\u001b[0m\u001b[1;33m)\u001b[0m\u001b[1;33m\u001b[0m\u001b[1;33m\u001b[0m\u001b[0m\n\u001b[0;32m    238\u001b[0m             \u001b[1;32melse\u001b[0m\u001b[1;33m:\u001b[0m\u001b[1;33m\u001b[0m\u001b[1;33m\u001b[0m\u001b[0m\n\u001b[1;32m--> 239\u001b[1;33m                 \u001b[1;32mraise\u001b[0m \u001b[0mException\u001b[0m\u001b[1;33m(\u001b[0m\u001b[1;34m\"Failed to refresh session!\"\u001b[0m\u001b[1;33m)\u001b[0m \u001b[1;32mfrom\u001b[0m \u001b[0mexc\u001b[0m\u001b[1;33m\u001b[0m\u001b[1;33m\u001b[0m\u001b[0m\n\u001b[0m\u001b[0;32m    240\u001b[0m \u001b[1;33m\u001b[0m\u001b[0m\n\u001b[0;32m    241\u001b[0m     \u001b[1;32mdef\u001b[0m \u001b[0mreset_chat\u001b[0m\u001b[1;33m(\u001b[0m\u001b[0mself\u001b[0m\u001b[1;33m)\u001b[0m \u001b[1;33m->\u001b[0m \u001b[1;32mNone\u001b[0m\u001b[1;33m:\u001b[0m\u001b[1;33m\u001b[0m\u001b[1;33m\u001b[0m\u001b[0m\n",
      "\u001b[1;31mException\u001b[0m: Failed to refresh session!"
     ]
    }
   ],
   "source": [
    "config = json.load(open(\"config.json\"))\n",
    "chatbot = Chatbot(config, conversation_id=None)\n",
    "chatbot.reset_chat()\n",
    "chatbot.refresh_session()"
   ]
  },
  {
   "cell_type": "code",
   "execution_count": null,
   "metadata": {},
   "outputs": [],
   "source": []
  }
 ],
 "metadata": {
  "kernelspec": {
   "display_name": "Python 3 (ipykernel)",
   "language": "python",
   "name": "python3"
  },
  "language_info": {
   "codemirror_mode": {
    "name": "ipython",
    "version": 3
   },
   "file_extension": ".py",
   "mimetype": "text/x-python",
   "name": "python",
   "nbconvert_exporter": "python",
   "pygments_lexer": "ipython3",
   "version": "3.7.1"
  }
 },
 "nbformat": 4,
 "nbformat_minor": 2
}
