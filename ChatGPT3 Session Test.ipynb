{
 "cells": [
  {
   "cell_type": "code",
   "execution_count": 13,
   "metadata": {},
   "outputs": [],
   "source": [
    "from revChatGPT.ChatGPT import Chatbot\n",
    "import json\n",
    "\n",
    "'''\n",
    "user_input = string \n",
    "config = json\n",
    "conversation_id = int --> optional\n",
    "'''"
   ]
  },
  {
   "cell_type": "code",
   "execution_count": 26,
   "metadata": {},
   "outputs": [
    {
     "name": "stdout",
     "output_type": "stream",
     "text": [
      "Spawning browser...\n",
      "Browser spawned.\n",
      "Found Cloudflare Cookie!\n"
     ]
    }
   ],
   "source": [
    "# start/reset instance\n",
    "chatbot = Chatbot(config, conversation_id=None)"
   ]
  },
  {
   "cell_type": "code",
   "execution_count": 27,
   "metadata": {},
   "outputs": [
    {
     "name": "stdout",
     "output_type": "stream",
     "text": [
      "{'message': \"Sure, I'd be happy to have a conversation with you about modifying rules and assumptions. To start, what is the rule or assumption that you currently live by that you would like to modify?\\n\", 'conversation_id': '7d679a80-c249-4766-a727-d40f576c3c96', 'parent_id': '41cc2d7d-1dfa-4aa7-8b65-1d09b65dd0ab'}\n"
     ]
    }
   ],
   "source": [
    "# initial group of questions to ask user\n",
    "\n",
    "# start prompt with \"ask me these quesitons one by one and have a conversation with me about them: \"\n",
    "\n",
    "response = chatbot.ask(\"ask me these questions one by one and have a conversation with me about them: Modifying Rules And Assumptions What is the rule (or assumption) I live by that I would like to modify? How does this rule (or assumption) a\u001fect me in my day to day life?\", conversation_id=None, parent_id=None)\n",
    "\n",
    "print(response)"
   ]
  },
  {
   "cell_type": "code",
   "execution_count": 28,
   "metadata": {},
   "outputs": [
    {
     "name": "stdout",
     "output_type": "stream",
     "text": [
      "{'message': \"I see, it sounds like you don't have a specific rule or assumption in mind that you would like to modify. Is there a different topic you would like to discuss?\\n\", 'conversation_id': '7d679a80-c249-4766-a727-d40f576c3c96', 'parent_id': '69e41e86-f548-4580-8cc8-b4215f9431f6'}\n"
     ]
    }
   ],
   "source": [
    "user_input = \"move to next question\"\n",
    "\n",
    "response = chatbot.ask(user_input, conversation_id=None, parent_id=None) # You can specify custom conversation and parent ids. Otherwise it uses the saved conversation (yes. conversations are automatically saved)\n",
    "\n",
    "print(response)"
   ]
  },
  {
   "cell_type": "code",
   "execution_count": null,
   "metadata": {},
   "outputs": [],
   "source": []
  }
 ],
 "metadata": {
  "kernelspec": {
   "display_name": "Python 3 (ipykernel)",
   "language": "python",
   "name": "python3"
  },
  "language_info": {
   "codemirror_mode": {
    "name": "ipython",
    "version": 3
   },
   "file_extension": ".py",
   "mimetype": "text/x-python",
   "name": "python",
   "nbconvert_exporter": "python",
   "pygments_lexer": "ipython3",
   "version": "3.7.1"
  }
 },
 "nbformat": 4,
 "nbformat_minor": 2
}
