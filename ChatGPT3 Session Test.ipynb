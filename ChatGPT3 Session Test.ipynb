{
 "cells": [
  {
   "cell_type": "code",
   "execution_count": 1,
   "metadata": {},
   "outputs": [
    {
     "data": {
      "text/plain": [
       "'\\nuser_input = string \\nconfig = json\\nconversation_id = int --> optional\\n'"
      ]
     },
     "execution_count": 1,
     "metadata": {},
     "output_type": "execute_result"
    }
   ],
   "source": [
    "from revChatGPT.ChatGPT import Chatbot\n",
    "import json\n",
    "\n",
    "'''\n",
    "user_input = string \n",
    "config = json\n",
    "conversation_id = int --> optional\n",
    "'''"
   ]
  },
  {
   "cell_type": "code",
   "execution_count": 2,
   "metadata": {},
   "outputs": [
    {
     "name": "stdout",
     "output_type": "stream",
     "text": [
      "Spawning browser...\n",
      "Browser spawned.\n",
      "Found Cloudflare Cookie!\n"
     ]
    }
   ],
   "source": [
    "# start/reset instance\n",
    "config = json.load(open(\"config.json\"))\n",
    "chatbot = Chatbot(config)"
   ]
  },
  {
   "cell_type": "code",
   "execution_count": 3,
   "metadata": {},
   "outputs": [
    {
     "name": "stdout",
     "output_type": "stream",
     "text": [
      "{'message': \"As of 2021, the countries with the largest gold reserves are:\\n\\n1. United States - 8,133.5 tonnes\\n2. Germany - 3,369.7 tonnes\\n3. International Monetary Fund - 2,814 tonnes\\n4. Italy - 2,452.8 tonnes\\n5. France - 2,436.0 tonnes\\n6. Russia - 2,299.9 tonnes\\n7. China - 1,948.3 tonnes\\n8. Switzerland - 1,040.0 tonnes\\n9. Japan - 765.2 tonnes\\n10. Netherlands - 612.5 tonnes\\n\\nThese figures are subject to change as countries' reserves are constantly being bought and sold.\\n\", 'conversation_id': '1a2dada3-b834-4c47-8e2f-7a64ddfde9bd', 'parent_id': '2e69b66e-473d-4208-bb9b-04e33b2fa363'}\n"
     ]
    }
   ],
   "source": [
    "# initial group of questions to ask user\n",
    "\n",
    "# start prompt with \"ask me these quesitons one by one and have a conversation with me about them: \"\n",
    "\n",
    "response = chatbot.ask(\"what are the countries with the largest gold reserve?\")\n",
    "\n",
    "print(response)"
   ]
  },
  {
   "cell_type": "code",
   "execution_count": 9,
   "metadata": {},
   "outputs": [
    {
     "name": "stdout",
     "output_type": "stream",
     "text": [
      "{'message': 'Okay, moving on to the next question. How does this rule or assumption affect you in your day to day life?\\n', 'conversation_id': '5a2d4a59-fe64-451f-8048-51b67413d16d', 'parent_id': '2e815ecd-3c13-4009-974c-b565c21814ae'}\n"
     ]
    }
   ],
   "source": [
    "user_input = \"are you sure?\"\n",
    "\n",
    "response = chatbot.ask(user_input, conversation_id=None, parent_id=None) # You can specify custom conversation and parent ids. Otherwise it uses the saved conversation (yes. conversations are automatically saved)\n",
    "\n",
    "print(response)"
   ]
  },
  {
   "cell_type": "code",
   "execution_count": 41,
   "metadata": {},
   "outputs": [],
   "source": [
    "# import requests\n",
    "\n",
    "# response = requests.post('http://localhost:5000/chat', json={'message': 'Hello', 'conversation_id': None, 'parent_id': None})\n",
    "# print(response.json())"
   ]
  }
 ],
 "metadata": {
  "kernelspec": {
   "display_name": "Python 3 (ipykernel)",
   "language": "python",
   "name": "python3"
  },
  "language_info": {
   "codemirror_mode": {
    "name": "ipython",
    "version": 3
   },
   "file_extension": ".py",
   "mimetype": "text/x-python",
   "name": "python",
   "nbconvert_exporter": "python",
   "pygments_lexer": "ipython3",
   "version": "3.7.1"
  },
  "vscode": {
   "interpreter": {
    "hash": "25addf1814d4c9385bce189a50f91b3953188b941f0ab68c73e05bb6c66aba4c"
   }
  }
 },
 "nbformat": 4,
 "nbformat_minor": 2
}
